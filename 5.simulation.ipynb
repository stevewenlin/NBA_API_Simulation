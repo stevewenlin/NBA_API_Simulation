{
 "cells": [
  {
   "cell_type": "code",
   "execution_count": 1,
   "metadata": {},
   "outputs": [],
   "source": [
    "import pandas as pd \n",
    "import random as rnd\n",
    "import numpy as np \n",
    "import matplotlib.pyplot as plt"
   ]
  },
  {
   "cell_type": "code",
   "execution_count": 2,
   "metadata": {},
   "outputs": [],
   "source": [
    "lakers = pd.read_csv('lakers.csv')"
   ]
  },
  {
   "cell_type": "code",
   "execution_count": 3,
   "metadata": {},
   "outputs": [],
   "source": [
    "bucks = pd.read_csv('bucks.csv')"
   ]
  },
  {
   "cell_type": "code",
   "execution_count": 4,
   "metadata": {},
   "outputs": [],
   "source": [
    "finaldf = pd.concat([bucks,lakers])"
   ]
  },
  {
   "cell_type": "code",
   "execution_count": 5,
   "metadata": {},
   "outputs": [
    {
     "data": {
      "text/plain": [
       "Index(['Unnamed: 0', 'SEASON_ID', 'TEAM_ID', 'TEAM_ABBREVIATION', 'TEAM_NAME',\n",
       "       'GAME_ID', 'GAME_DATE', 'MATCHUP', 'WL', 'MIN', 'PTS', 'FGM', 'FGA',\n",
       "       'FG_PCT', 'FG3M', 'FG3A', 'FG3_PCT', 'FTM', 'FTA', 'FT_PCT', 'OREB',\n",
       "       'DREB', 'REB', 'AST', 'STL', 'BLK', 'TOV', 'PF', 'PLUS_MINUS'],\n",
       "      dtype='object')"
      ]
     },
     "execution_count": 5,
     "metadata": {},
     "output_type": "execute_result"
    }
   ],
   "source": [
    "finaldf.columns #just need 3 columns -- 'TEAM_ABBREVIATION','GAME_DATE','PTS' \n",
    "#we are using PTS for the distributions, LAKERS points scored distribution vs BUCKS points scored distribution "
   ]
  },
  {
   "cell_type": "code",
   "execution_count": 6,
   "metadata": {},
   "outputs": [],
   "source": [
    "lakersf = finaldf[finaldf.TEAM_ABBREVIATION == 'LAL']\n",
    "bucksf = finaldf[finaldf.TEAM_ABBREVIATION == 'MIL'] "
   ]
  },
  {
   "cell_type": "code",
   "execution_count": 7,
   "metadata": {},
   "outputs": [
    {
     "data": {
      "text/plain": [
       "<matplotlib.axes._subplots.AxesSubplot at 0x1fe17a0e7f0>"
      ]
     },
     "execution_count": 7,
     "metadata": {},
     "output_type": "execute_result"
    },
    {
     "data": {
      "image/png": "[encoded data removed]",
      "text/plain": [
       "<Figure size 432x288 with 1 Axes>"
      ]
     },
     "metadata": {
      "needs_background": "light"
     },
     "output_type": "display_data"
    }
   ],
   "source": [
    "lakersf.PTS.hist() #blue\n",
    "bucksf.PTS.hist() #orange "
   ]
  },
  {
   "cell_type": "code",
   "execution_count": 8,
   "metadata": {},
   "outputs": [
    {
     "name": "stdout",
     "output_type": "stream",
     "text": [
      "LAKERS Points Mean  111.06493506493507\n",
      "LAKERS SD  14.226862714354713\n",
      "BUCKS Mean  116.96\n",
      "BUCKS SD  13.3086438076913\n"
     ]
    }
   ],
   "source": [
    "lakersmeanpts = lakersf.PTS.mean()\n",
    "bucksmeanpts = bucksf.PTS.mean()\n",
    "lakerssdpts = lakersf.PTS.std()\n",
    "buckssdpts = bucksf.PTS.std()\n",
    "\n",
    "print(\"LAKERS Points Mean \", lakersmeanpts)\n",
    "print(\"LAKERS SD \", lakerssdpts)\n",
    "print(\"BUCKS Mean \", bucksmeanpts)\n",
    "print(\"BUCKS SD \", buckssdpts)\n",
    "\n"
   ]
  },
  {
   "cell_type": "code",
   "execution_count": 9,
   "metadata": {},
   "outputs": [
    {
     "data": {
      "text/plain": [
       "111.62807624653392"
      ]
     },
     "execution_count": 9,
     "metadata": {},
     "output_type": "execute_result"
    }
   ],
   "source": [
    "rnd.gauss(lakersmeanpts,lakerssdpts) #\"GAUSSCIAN\" allows to randomly sample distribution "
   ]
  },
  {
   "cell_type": "code",
   "execution_count": 12,
   "metadata": {},
   "outputs": [
    {
     "data": {
      "text/plain": [
       "-1"
      ]
     },
     "execution_count": 12,
     "metadata": {},
     "output_type": "execute_result"
    }
   ],
   "source": [
    "def gameSim():\n",
    "    LAKERSscore = rnd.gauss(lakersmeanpts,lakerssdpts)\n",
    "    BUCKSscore = rnd.gauss(bucksmeanpts,buckssdpts)\n",
    "    if int(round(LAKERSscore)) > int(round(BUCKSscore)):\n",
    "        return 1 #lakers won\n",
    "    elif int(round(LAKERSscore)) < int(round(BUCKSscore)):\n",
    "        return -1 #bucks won \n",
    "    else: return 0\n",
    "    \n",
    "gameSim()"
   ]
  },
  {
   "cell_type": "code",
   "execution_count": 13,
   "metadata": {},
   "outputs": [],
   "source": [
    "def gamesSim(game7):\n",
    "    gamesout = []\n",
    "    team1win = 0\n",
    "    team2win = 0\n",
    "    tie = 0\n",
    "    for i in range(game7):\n",
    "        gm = gameSim()\n",
    "        gamesout.append(gm)\n",
    "        if gm == 1:\n",
    "            team1win +=1 \n",
    "        elif gm == -1:\n",
    "            team2win +=1\n",
    "        else: tie +=1 \n",
    "    print('LAKERS Win ', team1win/(team1win+team2win+tie),'%')\n",
    "    print('BUCKS Win ', team2win/(team1win+team2win+tie),'%')\n",
    "    print('Tie ', tie/(team1win+team2win+tie), '%')\n",
    "    return gamesout"
   ]
  },
  {
   "cell_type": "code",
   "execution_count": 14,
   "metadata": {},
   "outputs": [
    {
     "name": "stdout",
     "output_type": "stream",
     "text": [
      "LAKERS Win  0.5714285714285714 %\n",
      "BUCKS Win  0.42857142857142855 %\n",
      "Tie  0.0 %\n"
     ]
    },
    {
     "data": {
      "text/plain": [
       "[1, -1, -1, -1, 1, 1, 1]"
      ]
     },
     "execution_count": 14,
     "metadata": {},
     "output_type": "execute_result"
    }
   ],
   "source": [
    "gamesSim(7)"
   ]
  },
  {
   "cell_type": "code",
   "execution_count": null,
   "metadata": {},
   "outputs": [],
   "source": []
  }
 ],
 "metadata": {
  "kernelspec": {
   "display_name": "Python [conda env:PythonData]",
   "language": "python",
   "name": "conda-env-PythonData-py"
  },
  "language_info": {
   "codemirror_mode": {
    "name": "ipython",
    "version": 3
   },
   "file_extension": ".py",
   "mimetype": "text/x-python",
   "name": "python",
   "nbconvert_exporter": "python",
   "pygments_lexer": "ipython3",
   "version": "3.6.10"
  }
 },
 "nbformat": 4,
 "nbformat_minor": 4
}
